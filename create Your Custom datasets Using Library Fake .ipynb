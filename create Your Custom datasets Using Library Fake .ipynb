{
 "cells": [
  {
   "cell_type": "markdown",
   "metadata": {},
   "source": [
    "## Import Libraries"
   ]
  },
  {
   "cell_type": "code",
   "execution_count": 3,
   "metadata": {},
   "outputs": [
    {
     "data": {
      "application/javascript": [
       "\n",
       "            setTimeout(function() {\n",
       "                var nbb_cell_id = 3;\n",
       "                var nbb_unformatted_code = \"# debugging and formatter\\nfrom IPython.core.debugger import set_trace\\n\\n%load_ext nb_black\\n\\nimport pandas as pd\\nimport numpy as np\\nimport os\\nimport random\\nimport matplotlib.pyplot as plt\\nimport pickle\\nimport time\\n\\n%matplotlib inline\";\n",
       "                var nbb_formatted_code = \"# debugging and formatter\\nfrom IPython.core.debugger import set_trace\\n\\n%load_ext nb_black\\n\\nimport pandas as pd\\nimport numpy as np\\nimport os\\nimport random\\nimport matplotlib.pyplot as plt\\nimport pickle\\nimport time\\n\\n%matplotlib inline\";\n",
       "                var nbb_cells = Jupyter.notebook.get_cells();\n",
       "                for (var i = 0; i < nbb_cells.length; ++i) {\n",
       "                    if (nbb_cells[i].input_prompt_number == nbb_cell_id) {\n",
       "                        if (nbb_cells[i].get_text() == nbb_unformatted_code) {\n",
       "                             nbb_cells[i].set_text(nbb_formatted_code);\n",
       "                        }\n",
       "                        break;\n",
       "                    }\n",
       "                }\n",
       "            }, 500);\n",
       "            "
      ],
      "text/plain": [
       "<IPython.core.display.Javascript object>"
      ]
     },
     "metadata": {},
     "output_type": "display_data"
    }
   ],
   "source": [
    "# debugging and formatter\n",
    "from IPython.core.debugger import set_trace\n",
    "\n",
    "%load_ext nb_black\n",
    "\n",
    "import pandas as pd\n",
    "import numpy as np\n",
    "import os\n",
    "import random\n",
    "import matplotlib.pyplot as plt\n",
    "import pickle\n",
    "import time\n",
    "\n",
    "%matplotlib inline"
   ]
  },
  {
   "cell_type": "code",
   "execution_count": 4,
   "metadata": {},
   "outputs": [
    {
     "name": "stdout",
     "output_type": "stream",
     "text": [
      "Collecting faker\n",
      "  Downloading Faker-13.15.0-py3-none-any.whl (1.6 MB)\n",
      "Requirement already satisfied: python-dateutil>=2.4 in c:\\users\\lenovo\\anaconda3\\lib\\site-packages (from faker) (2.8.1)\n",
      "Requirement already satisfied: six>=1.5 in c:\\users\\lenovo\\anaconda3\\lib\\site-packages (from python-dateutil>=2.4->faker) (1.15.0)\n",
      "Installing collected packages: faker\n",
      "Successfully installed faker-13.15.0\n"
     ]
    },
    {
     "data": {
      "application/javascript": [
       "\n",
       "            setTimeout(function() {\n",
       "                var nbb_cell_id = 4;\n",
       "                var nbb_unformatted_code = \"!pip install faker\";\n",
       "                var nbb_formatted_code = \"!pip install faker\";\n",
       "                var nbb_cells = Jupyter.notebook.get_cells();\n",
       "                for (var i = 0; i < nbb_cells.length; ++i) {\n",
       "                    if (nbb_cells[i].input_prompt_number == nbb_cell_id) {\n",
       "                        if (nbb_cells[i].get_text() == nbb_unformatted_code) {\n",
       "                             nbb_cells[i].set_text(nbb_formatted_code);\n",
       "                        }\n",
       "                        break;\n",
       "                    }\n",
       "                }\n",
       "            }, 500);\n",
       "            "
      ],
      "text/plain": [
       "<IPython.core.display.Javascript object>"
      ]
     },
     "metadata": {},
     "output_type": "display_data"
    }
   ],
   "source": [
    "!pip install faker"
   ]
  },
  {
   "cell_type": "markdown",
   "metadata": {},
   "source": [
    "Faker is a Python package that generates fake data for you. Whether you need to create datasets that contain certains types of features and targets, or anonymize data taken from a production service, Faker is for you.\n"
   ]
  },
  {
   "cell_type": "code",
   "execution_count": 5,
   "metadata": {},
   "outputs": [
    {
     "data": {
      "application/javascript": [
       "\n",
       "            setTimeout(function() {\n",
       "                var nbb_cell_id = 5;\n",
       "                var nbb_unformatted_code = \"# https://faker.readthedocs.io/\\nfrom faker import Faker\\n\\nfake = Faker('fr_FR')\";\n",
       "                var nbb_formatted_code = \"# https://faker.readthedocs.io/\\nfrom faker import Faker\\n\\nfake = Faker(\\\"fr_FR\\\")\";\n",
       "                var nbb_cells = Jupyter.notebook.get_cells();\n",
       "                for (var i = 0; i < nbb_cells.length; ++i) {\n",
       "                    if (nbb_cells[i].input_prompt_number == nbb_cell_id) {\n",
       "                        if (nbb_cells[i].get_text() == nbb_unformatted_code) {\n",
       "                             nbb_cells[i].set_text(nbb_formatted_code);\n",
       "                        }\n",
       "                        break;\n",
       "                    }\n",
       "                }\n",
       "            }, 500);\n",
       "            "
      ],
      "text/plain": [
       "<IPython.core.display.Javascript object>"
      ]
     },
     "metadata": {},
     "output_type": "display_data"
    }
   ],
   "source": [
    "# https://faker.readthedocs.io/\n",
    "from faker import Faker\n",
    "\n",
    "fake = Faker(\"fr_FR\")"
   ]
  },
  {
   "cell_type": "code",
   "execution_count": 7,
   "metadata": {},
   "outputs": [
    {
     "data": {
      "application/javascript": [
       "\n",
       "            setTimeout(function() {\n",
       "                var nbb_cell_id = 7;\n",
       "                var nbb_unformatted_code = \"df = pd.read_csv(\\\"prenom.csv\\\")\";\n",
       "                var nbb_formatted_code = \"df = pd.read_csv(\\\"prenom.csv\\\")\";\n",
       "                var nbb_cells = Jupyter.notebook.get_cells();\n",
       "                for (var i = 0; i < nbb_cells.length; ++i) {\n",
       "                    if (nbb_cells[i].input_prompt_number == nbb_cell_id) {\n",
       "                        if (nbb_cells[i].get_text() == nbb_unformatted_code) {\n",
       "                             nbb_cells[i].set_text(nbb_formatted_code);\n",
       "                        }\n",
       "                        break;\n",
       "                    }\n",
       "                }\n",
       "            }, 500);\n",
       "            "
      ],
      "text/plain": [
       "<IPython.core.display.Javascript object>"
      ]
     },
     "metadata": {},
     "output_type": "display_data"
    }
   ],
   "source": [
    "df = pd.read_csv(\"prenom.csv\")"
   ]
  },
  {
   "cell_type": "code",
   "execution_count": 12,
   "metadata": {},
   "outputs": [
    {
     "data": {
      "application/javascript": [
       "\n",
       "            setTimeout(function() {\n",
       "                var nbb_cell_id = 12;\n",
       "                var nbb_unformatted_code = \"my_list_of_name = df[\\\"prenom\\\"].tolist()\";\n",
       "                var nbb_formatted_code = \"my_list_of_name = df[\\\"prenom\\\"].tolist()\";\n",
       "                var nbb_cells = Jupyter.notebook.get_cells();\n",
       "                for (var i = 0; i < nbb_cells.length; ++i) {\n",
       "                    if (nbb_cells[i].input_prompt_number == nbb_cell_id) {\n",
       "                        if (nbb_cells[i].get_text() == nbb_unformatted_code) {\n",
       "                             nbb_cells[i].set_text(nbb_formatted_code);\n",
       "                        }\n",
       "                        break;\n",
       "                    }\n",
       "                }\n",
       "            }, 500);\n",
       "            "
      ],
      "text/plain": [
       "<IPython.core.display.Javascript object>"
      ]
     },
     "metadata": {},
     "output_type": "display_data"
    }
   ],
   "source": [
    "my_list_of_name = df[\"prenom\"].tolist()"
   ]
  },
  {
   "cell_type": "code",
   "execution_count": 17,
   "metadata": {},
   "outputs": [
    {
     "data": {
      "text/plain": [
       "'Stoimenov ZIDIN FUSAKAZU MILOSIJA.'"
      ]
     },
     "execution_count": 17,
     "metadata": {},
     "output_type": "execute_result"
    },
    {
     "data": {
      "application/javascript": [
       "\n",
       "            setTimeout(function() {\n",
       "                var nbb_cell_id = 17;\n",
       "                var nbb_unformatted_code = \"fake.sentence(ext_word_list=my_list_of_name)\";\n",
       "                var nbb_formatted_code = \"fake.sentence(ext_word_list=my_list_of_name)\";\n",
       "                var nbb_cells = Jupyter.notebook.get_cells();\n",
       "                for (var i = 0; i < nbb_cells.length; ++i) {\n",
       "                    if (nbb_cells[i].input_prompt_number == nbb_cell_id) {\n",
       "                        if (nbb_cells[i].get_text() == nbb_unformatted_code) {\n",
       "                             nbb_cells[i].set_text(nbb_formatted_code);\n",
       "                        }\n",
       "                        break;\n",
       "                    }\n",
       "                }\n",
       "            }, 500);\n",
       "            "
      ],
      "text/plain": [
       "<IPython.core.display.Javascript object>"
      ]
     },
     "metadata": {},
     "output_type": "display_data"
    }
   ],
   "source": [
    "fake.sentence(ext_word_list=my_list_of_name)"
   ]
  },
  {
   "cell_type": "code",
   "execution_count": 18,
   "metadata": {},
   "outputs": [
    {
     "data": {
      "text/plain": [
       "'Répondre personne suivre lentement manier. Instinct ouvert violence comme dur voile. Combien mériter chat user grave soumettre ensuite repas.'"
      ]
     },
     "execution_count": 18,
     "metadata": {},
     "output_type": "execute_result"
    },
    {
     "data": {
      "application/javascript": [
       "\n",
       "            setTimeout(function() {\n",
       "                var nbb_cell_id = 18;\n",
       "                var nbb_unformatted_code = \"fake.text()\";\n",
       "                var nbb_formatted_code = \"fake.text()\";\n",
       "                var nbb_cells = Jupyter.notebook.get_cells();\n",
       "                for (var i = 0; i < nbb_cells.length; ++i) {\n",
       "                    if (nbb_cells[i].input_prompt_number == nbb_cell_id) {\n",
       "                        if (nbb_cells[i].get_text() == nbb_unformatted_code) {\n",
       "                             nbb_cells[i].set_text(nbb_formatted_code);\n",
       "                        }\n",
       "                        break;\n",
       "                    }\n",
       "                }\n",
       "            }, 500);\n",
       "            "
      ],
      "text/plain": [
       "<IPython.core.display.Javascript object>"
      ]
     },
     "metadata": {},
     "output_type": "display_data"
    }
   ],
   "source": [
    "fake.text()"
   ]
  },
  {
   "cell_type": "code",
   "execution_count": 22,
   "metadata": {},
   "outputs": [
    {
     "data": {
      "text/plain": [
       "'Françoise Gosselin'"
      ]
     },
     "execution_count": 22,
     "metadata": {},
     "output_type": "execute_result"
    },
    {
     "data": {
      "application/javascript": [
       "\n",
       "            setTimeout(function() {\n",
       "                var nbb_cell_id = 22;\n",
       "                var nbb_unformatted_code = \"fake.name()\";\n",
       "                var nbb_formatted_code = \"fake.name()\";\n",
       "                var nbb_cells = Jupyter.notebook.get_cells();\n",
       "                for (var i = 0; i < nbb_cells.length; ++i) {\n",
       "                    if (nbb_cells[i].input_prompt_number == nbb_cell_id) {\n",
       "                        if (nbb_cells[i].get_text() == nbb_unformatted_code) {\n",
       "                             nbb_cells[i].set_text(nbb_formatted_code);\n",
       "                        }\n",
       "                        break;\n",
       "                    }\n",
       "                }\n",
       "            }, 500);\n",
       "            "
      ],
      "text/plain": [
       "<IPython.core.display.Javascript object>"
      ]
     },
     "metadata": {},
     "output_type": "display_data"
    }
   ],
   "source": [
    "fake.name()"
   ]
  },
  {
   "cell_type": "markdown",
   "metadata": {},
   "source": [
    "# Creating synthetic data"
   ]
  },
  {
   "cell_type": "markdown",
   "metadata": {},
   "source": [
    "### Timeseries "
   ]
  },
  {
   "cell_type": "code",
   "execution_count": 28,
   "metadata": {},
   "outputs": [
    {
     "data": {
      "application/javascript": [
       "\n",
       "            setTimeout(function() {\n",
       "                var nbb_cell_id = 28;\n",
       "                var nbb_unformatted_code = \"def faker_timeseries_rows(num=1, seed=None):\\n    \\\"\\\"\\\"\\n    \\\"\\\"\\\"\\n    fake.seed_instance(seed)\\n\\n    time_gen = fake.time_series(start_date=f\\\"-{num}d\\\", end_date=\\\"now\\\", precision=3600)\\n\\n    output = [\\n        {\\n            \\\"datetime\\\": next(time_gen),\\n            \\\"name\\\": fake.last_name(),\\n            \\\"email\\\": fake.free_email(),\\n            \\\"country\\\": fake.country(),\\n        }\\n        for x in range(num)\\n    ]\\n    return output\";\n",
       "                var nbb_formatted_code = \"def faker_timeseries_rows(num=1, seed=None):\\n    \\\"\\\"\\\"\\n    \\\"\\\"\\\"\\n    fake.seed_instance(seed)\\n\\n    time_gen = fake.time_series(start_date=f\\\"-{num}d\\\", end_date=\\\"now\\\", precision=3600)\\n\\n    output = [\\n        {\\n            \\\"datetime\\\": next(time_gen),\\n            \\\"name\\\": fake.last_name(),\\n            \\\"email\\\": fake.free_email(),\\n            \\\"country\\\": fake.country(),\\n        }\\n        for x in range(num)\\n    ]\\n    return output\";\n",
       "                var nbb_cells = Jupyter.notebook.get_cells();\n",
       "                for (var i = 0; i < nbb_cells.length; ++i) {\n",
       "                    if (nbb_cells[i].input_prompt_number == nbb_cell_id) {\n",
       "                        if (nbb_cells[i].get_text() == nbb_unformatted_code) {\n",
       "                             nbb_cells[i].set_text(nbb_formatted_code);\n",
       "                        }\n",
       "                        break;\n",
       "                    }\n",
       "                }\n",
       "            }, 500);\n",
       "            "
      ],
      "text/plain": [
       "<IPython.core.display.Javascript object>"
      ]
     },
     "metadata": {},
     "output_type": "display_data"
    }
   ],
   "source": [
    "def faker_timeseries_rows(num=1, seed=None):\n",
    "    \"\"\"\n",
    "    \"\"\"\n",
    "    fake.seed_instance(seed)\n",
    "\n",
    "    time_gen = fake.time_series(start_date=f\"-{num}d\", end_date=\"now\", precision=3600)\n",
    "\n",
    "    output = [\n",
    "        {\n",
    "            \"datetime\": next(time_gen),\n",
    "            \"name\": fake.last_name(),\n",
    "            \"email\": fake.free_email(),\n",
    "            \"country\": fake.country(),\n",
    "        }\n",
    "        for x in range(num)\n",
    "    ]\n",
    "    return output"
   ]
  },
  {
   "cell_type": "code",
   "execution_count": 29,
   "metadata": {},
   "outputs": [
    {
     "data": {
      "text/html": [
       "<div>\n",
       "<style scoped>\n",
       "    .dataframe tbody tr th:only-of-type {\n",
       "        vertical-align: middle;\n",
       "    }\n",
       "\n",
       "    .dataframe tbody tr th {\n",
       "        vertical-align: top;\n",
       "    }\n",
       "\n",
       "    .dataframe thead th {\n",
       "        text-align: right;\n",
       "    }\n",
       "</style>\n",
       "<table border=\"1\" class=\"dataframe\">\n",
       "  <thead>\n",
       "    <tr style=\"text-align: right;\">\n",
       "      <th></th>\n",
       "      <th>datetime</th>\n",
       "      <th>name</th>\n",
       "      <th>email</th>\n",
       "      <th>country</th>\n",
       "    </tr>\n",
       "  </thead>\n",
       "  <tbody>\n",
       "    <tr>\n",
       "      <th>0</th>\n",
       "      <td>(2022-07-02 14:03:12, 3039.918665490173)</td>\n",
       "      <td>Thierry</td>\n",
       "      <td>qfournier@wanadoo.fr</td>\n",
       "      <td>Malaisie</td>\n",
       "    </tr>\n",
       "    <tr>\n",
       "      <th>1</th>\n",
       "      <td>(2022-07-02 15:03:12, 1457.7628948214915)</td>\n",
       "      <td>Bailly</td>\n",
       "      <td>lpelletier@sfr.fr</td>\n",
       "      <td>Mariannes du Nord (Îles)</td>\n",
       "    </tr>\n",
       "    <tr>\n",
       "      <th>2</th>\n",
       "      <td>(2022-07-02 16:03:12, 501.3853387133495)</td>\n",
       "      <td>Joly</td>\n",
       "      <td>mauricesusanne@bouygtel.fr</td>\n",
       "      <td>Yemen</td>\n",
       "    </tr>\n",
       "    <tr>\n",
       "      <th>3</th>\n",
       "      <td>(2022-07-02 17:03:12, 1917.2290827186978)</td>\n",
       "      <td>Munoz</td>\n",
       "      <td>thierryperrin@hotmail.fr</td>\n",
       "      <td>Vietnam</td>\n",
       "    </tr>\n",
       "    <tr>\n",
       "      <th>4</th>\n",
       "      <td>(2022-07-02 18:03:12, 3061.7057745333173)</td>\n",
       "      <td>Rémy</td>\n",
       "      <td>gvaillant@live.com</td>\n",
       "      <td>La Barbad</td>\n",
       "    </tr>\n",
       "  </tbody>\n",
       "</table>\n",
       "</div>"
      ],
      "text/plain": [
       "                                    datetime     name  \\\n",
       "0   (2022-07-02 14:03:12, 3039.918665490173)  Thierry   \n",
       "1  (2022-07-02 15:03:12, 1457.7628948214915)   Bailly   \n",
       "2   (2022-07-02 16:03:12, 501.3853387133495)     Joly   \n",
       "3  (2022-07-02 17:03:12, 1917.2290827186978)    Munoz   \n",
       "4  (2022-07-02 18:03:12, 3061.7057745333173)     Rémy   \n",
       "\n",
       "                        email                   country  \n",
       "0        qfournier@wanadoo.fr                  Malaisie  \n",
       "1           lpelletier@sfr.fr  Mariannes du Nord (Îles)  \n",
       "2  mauricesusanne@bouygtel.fr                     Yemen  \n",
       "3    thierryperrin@hotmail.fr                   Vietnam  \n",
       "4          gvaillant@live.com                 La Barbad  "
      ]
     },
     "execution_count": 29,
     "metadata": {},
     "output_type": "execute_result"
    },
    {
     "data": {
      "application/javascript": [
       "\n",
       "            setTimeout(function() {\n",
       "                var nbb_cell_id = 29;\n",
       "                var nbb_unformatted_code = \"df = pd.DataFrame(faker_timeseries_rows(10, seed=0))\\ndf.head(5)\";\n",
       "                var nbb_formatted_code = \"df = pd.DataFrame(faker_timeseries_rows(10, seed=0))\\ndf.head(5)\";\n",
       "                var nbb_cells = Jupyter.notebook.get_cells();\n",
       "                for (var i = 0; i < nbb_cells.length; ++i) {\n",
       "                    if (nbb_cells[i].input_prompt_number == nbb_cell_id) {\n",
       "                        if (nbb_cells[i].get_text() == nbb_unformatted_code) {\n",
       "                             nbb_cells[i].set_text(nbb_formatted_code);\n",
       "                        }\n",
       "                        break;\n",
       "                    }\n",
       "                }\n",
       "            }, 500);\n",
       "            "
      ],
      "text/plain": [
       "<IPython.core.display.Javascript object>"
      ]
     },
     "metadata": {},
     "output_type": "display_data"
    }
   ],
   "source": [
    "df = pd.DataFrame(faker_timeseries_rows(10, seed=0))\n",
    "df.head(5)\n"
   ]
  },
  {
   "cell_type": "markdown",
   "metadata": {},
   "source": [
    "### Categorical data"
   ]
  },
  {
   "cell_type": "code",
   "execution_count": 30,
   "metadata": {},
   "outputs": [
    {
     "data": {
      "application/javascript": [
       "\n",
       "            setTimeout(function() {\n",
       "                var nbb_cell_id = 30;\n",
       "                var nbb_unformatted_code = \"def faker_categorical(num=1, seed=None):\\n    \\\"\\\"\\\"\\n    \\\"\\\"\\\"\\n    np.random.seed(seed)\\n    fake.seed_instance(seed)\\n\\n    output = [\\n        {\\n            \\\"name\\\": fake.last_name(),\\n            \\\"email\\\": fake.free_email(),\\n            \\\"country\\\": np.random.choice([\\\"United Kingdom\\\", \\\"France\\\", \\\"Belgium\\\"]),\\n            \\\"gender\\\": np.random.choice([\\\"M\\\", \\\"F\\\", \\\"Not Specified\\\"], p=[0.3, 0.6, 0.1]),\\n            \\\"avg_rating\\\": np.random.choice(\\n                np.arange(0, 6, 1), p=[0.5, 0.05, 0.05, 0.30, 0.05, 0.05]\\n            ),\\n        }\\n        for x in range(num)\\n    ]\\n    return output\";\n",
       "                var nbb_formatted_code = \"def faker_categorical(num=1, seed=None):\\n    \\\"\\\"\\\"\\n    \\\"\\\"\\\"\\n    np.random.seed(seed)\\n    fake.seed_instance(seed)\\n\\n    output = [\\n        {\\n            \\\"name\\\": fake.last_name(),\\n            \\\"email\\\": fake.free_email(),\\n            \\\"country\\\": np.random.choice([\\\"United Kingdom\\\", \\\"France\\\", \\\"Belgium\\\"]),\\n            \\\"gender\\\": np.random.choice([\\\"M\\\", \\\"F\\\", \\\"Not Specified\\\"], p=[0.3, 0.6, 0.1]),\\n            \\\"avg_rating\\\": np.random.choice(\\n                np.arange(0, 6, 1), p=[0.5, 0.05, 0.05, 0.30, 0.05, 0.05]\\n            ),\\n        }\\n        for x in range(num)\\n    ]\\n    return output\";\n",
       "                var nbb_cells = Jupyter.notebook.get_cells();\n",
       "                for (var i = 0; i < nbb_cells.length; ++i) {\n",
       "                    if (nbb_cells[i].input_prompt_number == nbb_cell_id) {\n",
       "                        if (nbb_cells[i].get_text() == nbb_unformatted_code) {\n",
       "                             nbb_cells[i].set_text(nbb_formatted_code);\n",
       "                        }\n",
       "                        break;\n",
       "                    }\n",
       "                }\n",
       "            }, 500);\n",
       "            "
      ],
      "text/plain": [
       "<IPython.core.display.Javascript object>"
      ]
     },
     "metadata": {},
     "output_type": "display_data"
    }
   ],
   "source": [
    "def faker_categorical(num=1, seed=None):\n",
    "    \"\"\"\n",
    "    \"\"\"\n",
    "    np.random.seed(seed)\n",
    "    fake.seed_instance(seed)\n",
    "\n",
    "    output = [\n",
    "        {\n",
    "            \"name\": fake.last_name(),\n",
    "            \"email\": fake.free_email(),\n",
    "            \"country\": np.random.choice([\"United Kingdom\", \"France\", \"Belgium\"]),\n",
    "            \"gender\": np.random.choice([\"M\", \"F\", \"Not Specified\"], p=[0.3, 0.6, 0.1]),\n",
    "            \"avg_rating\": np.random.choice(\n",
    "                np.arange(0, 6, 1), p=[0.5, 0.05, 0.05, 0.30, 0.05, 0.05]\n",
    "            ),\n",
    "        }\n",
    "        for x in range(num)\n",
    "    ]\n",
    "    return output"
   ]
  },
  {
   "cell_type": "code",
   "execution_count": 31,
   "metadata": {},
   "outputs": [
    {
     "data": {
      "text/html": [
       "<div>\n",
       "<style scoped>\n",
       "    .dataframe tbody tr th:only-of-type {\n",
       "        vertical-align: middle;\n",
       "    }\n",
       "\n",
       "    .dataframe tbody tr th {\n",
       "        vertical-align: top;\n",
       "    }\n",
       "\n",
       "    .dataframe thead th {\n",
       "        text-align: right;\n",
       "    }\n",
       "</style>\n",
       "<table border=\"1\" class=\"dataframe\">\n",
       "  <thead>\n",
       "    <tr style=\"text-align: right;\">\n",
       "      <th></th>\n",
       "      <th>name</th>\n",
       "      <th>email</th>\n",
       "      <th>country</th>\n",
       "      <th>gender</th>\n",
       "      <th>avg_rating</th>\n",
       "    </tr>\n",
       "  </thead>\n",
       "  <tbody>\n",
       "    <tr>\n",
       "      <th>0</th>\n",
       "      <td>Collin</td>\n",
       "      <td>qfournier@wanadoo.fr</td>\n",
       "      <td>United Kingdom</td>\n",
       "      <td>F</td>\n",
       "      <td>3</td>\n",
       "    </tr>\n",
       "    <tr>\n",
       "      <th>1</th>\n",
       "      <td>Vallée</td>\n",
       "      <td>ebailly@live.com</td>\n",
       "      <td>France</td>\n",
       "      <td>F</td>\n",
       "      <td>0</td>\n",
       "    </tr>\n",
       "    <tr>\n",
       "      <th>2</th>\n",
       "      <td>Guillon</td>\n",
       "      <td>corinnejoly@club-internet.fr</td>\n",
       "      <td>Belgium</td>\n",
       "      <td>M</td>\n",
       "      <td>0</td>\n",
       "    </tr>\n",
       "    <tr>\n",
       "      <th>3</th>\n",
       "      <td>Joly</td>\n",
       "      <td>mauricesusanne@bouygtel.fr</td>\n",
       "      <td>France</td>\n",
       "      <td>F</td>\n",
       "      <td>1</td>\n",
       "    </tr>\n",
       "    <tr>\n",
       "      <th>4</th>\n",
       "      <td>Rossi</td>\n",
       "      <td>thierryperrin@hotmail.fr</td>\n",
       "      <td>United Kingdom</td>\n",
       "      <td>F</td>\n",
       "      <td>3</td>\n",
       "    </tr>\n",
       "  </tbody>\n",
       "</table>\n",
       "</div>"
      ],
      "text/plain": [
       "      name                         email         country gender  avg_rating\n",
       "0   Collin          qfournier@wanadoo.fr  United Kingdom      F           3\n",
       "1   Vallée              ebailly@live.com          France      F           0\n",
       "2  Guillon  corinnejoly@club-internet.fr         Belgium      M           0\n",
       "3     Joly    mauricesusanne@bouygtel.fr          France      F           1\n",
       "4    Rossi      thierryperrin@hotmail.fr  United Kingdom      F           3"
      ]
     },
     "execution_count": 31,
     "metadata": {},
     "output_type": "execute_result"
    },
    {
     "data": {
      "application/javascript": [
       "\n",
       "            setTimeout(function() {\n",
       "                var nbb_cell_id = 31;\n",
       "                var nbb_unformatted_code = \"df = pd.DataFrame(faker_categorical(num=100, seed=0))\\ndf.head(5)\";\n",
       "                var nbb_formatted_code = \"df = pd.DataFrame(faker_categorical(num=100, seed=0))\\ndf.head(5)\";\n",
       "                var nbb_cells = Jupyter.notebook.get_cells();\n",
       "                for (var i = 0; i < nbb_cells.length; ++i) {\n",
       "                    if (nbb_cells[i].input_prompt_number == nbb_cell_id) {\n",
       "                        if (nbb_cells[i].get_text() == nbb_unformatted_code) {\n",
       "                             nbb_cells[i].set_text(nbb_formatted_code);\n",
       "                        }\n",
       "                        break;\n",
       "                    }\n",
       "                }\n",
       "            }, 500);\n",
       "            "
      ],
      "text/plain": [
       "<IPython.core.display.Javascript object>"
      ]
     },
     "metadata": {},
     "output_type": "display_data"
    }
   ],
   "source": [
    "df = pd.DataFrame(faker_categorical(num=100, seed=0))\n",
    "df.head(5)"
   ]
  },
  {
   "cell_type": "code",
   "execution_count": 32,
   "metadata": {},
   "outputs": [
    {
     "data": {
      "text/plain": [
       "([<matplotlib.axis.XTick at 0x1e16587d130>,\n",
       "  <matplotlib.axis.XTick at 0x1e16587d100>,\n",
       "  <matplotlib.axis.XTick at 0x1e165877c40>,\n",
       "  <matplotlib.axis.XTick at 0x1e1658aaa00>,\n",
       "  <matplotlib.axis.XTick at 0x1e1658aaf10>,\n",
       "  <matplotlib.axis.XTick at 0x1e1658b6460>],\n",
       " [Text(0, 0, '0'),\n",
       "  Text(3, 0, '3'),\n",
       "  Text(1, 0, '1'),\n",
       "  Text(4, 0, '4'),\n",
       "  Text(5, 0, '5'),\n",
       "  Text(2, 0, '2')])"
      ]
     },
     "execution_count": 32,
     "metadata": {},
     "output_type": "execute_result"
    },
    {
     "data": {
      "image/png": "[encoded data removed]",
      "text/plain": [
       "<Figure size 432x288 with 1 Axes>"
      ]
     },
     "metadata": {
      "needs_background": "light"
     },
     "output_type": "display_data"
    },
    {
     "data": {
      "application/javascript": [
       "\n",
       "            setTimeout(function() {\n",
       "                var nbb_cell_id = 32;\n",
       "                var nbb_unformatted_code = \"plt.bar(df[\\\"avg_rating\\\"].value_counts().index, df[\\\"avg_rating\\\"].value_counts().values)\\nplt.xticks(df[\\\"avg_rating\\\"].value_counts().index, df[\\\"avg_rating\\\"].value_counts().index)\";\n",
       "                var nbb_formatted_code = \"plt.bar(df[\\\"avg_rating\\\"].value_counts().index, df[\\\"avg_rating\\\"].value_counts().values)\\nplt.xticks(df[\\\"avg_rating\\\"].value_counts().index, df[\\\"avg_rating\\\"].value_counts().index)\";\n",
       "                var nbb_cells = Jupyter.notebook.get_cells();\n",
       "                for (var i = 0; i < nbb_cells.length; ++i) {\n",
       "                    if (nbb_cells[i].input_prompt_number == nbb_cell_id) {\n",
       "                        if (nbb_cells[i].get_text() == nbb_unformatted_code) {\n",
       "                             nbb_cells[i].set_text(nbb_formatted_code);\n",
       "                        }\n",
       "                        break;\n",
       "                    }\n",
       "                }\n",
       "            }, 500);\n",
       "            "
      ],
      "text/plain": [
       "<IPython.core.display.Javascript object>"
      ]
     },
     "metadata": {},
     "output_type": "display_data"
    }
   ],
   "source": [
    "plt.bar(df[\"avg_rating\"].value_counts().index, df[\"avg_rating\"].value_counts().values)\n",
    "plt.xticks(df[\"avg_rating\"].value_counts().index, df[\"avg_rating\"].value_counts().index)"
   ]
  },
  {
   "cell_type": "markdown",
   "metadata": {},
   "source": [
    "### Imbalanced data"
   ]
  },
  {
   "cell_type": "code",
   "execution_count": 33,
   "metadata": {},
   "outputs": [
    {
     "data": {
      "application/javascript": [
       "\n",
       "            setTimeout(function() {\n",
       "                var nbb_cell_id = 33;\n",
       "                var nbb_unformatted_code = \"def imbalanced_data(num=1, seed=None):\\n    \\\"\\\"\\\"\\n    \\\"\\\"\\\"\\n    np.random.seed(seed)\\n    fake.seed_instance(seed)\\n\\n    output = [\\n        {\\n            \\\"name\\\": fake.last_name(),\\n            \\\"email\\\": fake.free_email(),\\n            \\\"country\\\": np.random.choice([\\\"United Kingdom\\\", \\\"France\\\", \\\"Belgium\\\"]),\\n            \\\"gender\\\": np.random.choice([\\\"M\\\", \\\"F\\\", \\\"Not Specified\\\"], p=[0.3, 0.6, 0.1]),\\n            \\\"avg_rating\\\": np.random.choice(\\n                np.arange(0, 6, 1), p=[0.5, 0.1, 0.1, 0.1, 0.1, 0.1]\\n            ),\\n            \\\"long_tailed\\\": np.random.lognormal(3, 1, 1)[0],\\n            \\\"target\\\": np.random.binomial(1, 0.05, 1)[0],\\n        }\\n        for x in range(num)\\n    ]\\n    return output\";\n",
       "                var nbb_formatted_code = \"def imbalanced_data(num=1, seed=None):\\n    \\\"\\\"\\\"\\n    \\\"\\\"\\\"\\n    np.random.seed(seed)\\n    fake.seed_instance(seed)\\n\\n    output = [\\n        {\\n            \\\"name\\\": fake.last_name(),\\n            \\\"email\\\": fake.free_email(),\\n            \\\"country\\\": np.random.choice([\\\"United Kingdom\\\", \\\"France\\\", \\\"Belgium\\\"]),\\n            \\\"gender\\\": np.random.choice([\\\"M\\\", \\\"F\\\", \\\"Not Specified\\\"], p=[0.3, 0.6, 0.1]),\\n            \\\"avg_rating\\\": np.random.choice(\\n                np.arange(0, 6, 1), p=[0.5, 0.1, 0.1, 0.1, 0.1, 0.1]\\n            ),\\n            \\\"long_tailed\\\": np.random.lognormal(3, 1, 1)[0],\\n            \\\"target\\\": np.random.binomial(1, 0.05, 1)[0],\\n        }\\n        for x in range(num)\\n    ]\\n    return output\";\n",
       "                var nbb_cells = Jupyter.notebook.get_cells();\n",
       "                for (var i = 0; i < nbb_cells.length; ++i) {\n",
       "                    if (nbb_cells[i].input_prompt_number == nbb_cell_id) {\n",
       "                        if (nbb_cells[i].get_text() == nbb_unformatted_code) {\n",
       "                             nbb_cells[i].set_text(nbb_formatted_code);\n",
       "                        }\n",
       "                        break;\n",
       "                    }\n",
       "                }\n",
       "            }, 500);\n",
       "            "
      ],
      "text/plain": [
       "<IPython.core.display.Javascript object>"
      ]
     },
     "metadata": {},
     "output_type": "display_data"
    }
   ],
   "source": [
    "def imbalanced_data(num=1, seed=None):\n",
    "    \"\"\"\n",
    "    \"\"\"\n",
    "    np.random.seed(seed)\n",
    "    fake.seed_instance(seed)\n",
    "\n",
    "    output = [\n",
    "        {\n",
    "            \"name\": fake.last_name(),\n",
    "            \"email\": fake.free_email(),\n",
    "            \"country\": np.random.choice([\"United Kingdom\", \"France\", \"Belgium\"]),\n",
    "            \"gender\": np.random.choice([\"M\", \"F\", \"Not Specified\"], p=[0.3, 0.6, 0.1]),\n",
    "            \"avg_rating\": np.random.choice(\n",
    "                np.arange(0, 6, 1), p=[0.5, 0.1, 0.1, 0.1, 0.1, 0.1]\n",
    "            ),\n",
    "            \"long_tailed\": np.random.lognormal(3, 1, 1)[0],\n",
    "            \"target\": np.random.binomial(1, 0.05, 1)[0],\n",
    "        }\n",
    "        for x in range(num)\n",
    "    ]\n",
    "    return output"
   ]
  },
  {
   "cell_type": "code",
   "execution_count": 34,
   "metadata": {},
   "outputs": [
    {
     "name": "stdout",
     "output_type": "stream",
     "text": [
      "Wall time: 2.03 s\n"
     ]
    },
    {
     "data": {
      "text/html": [
       "<div>\n",
       "<style scoped>\n",
       "    .dataframe tbody tr th:only-of-type {\n",
       "        vertical-align: middle;\n",
       "    }\n",
       "\n",
       "    .dataframe tbody tr th {\n",
       "        vertical-align: top;\n",
       "    }\n",
       "\n",
       "    .dataframe thead th {\n",
       "        text-align: right;\n",
       "    }\n",
       "</style>\n",
       "<table border=\"1\" class=\"dataframe\">\n",
       "  <thead>\n",
       "    <tr style=\"text-align: right;\">\n",
       "      <th></th>\n",
       "      <th>name</th>\n",
       "      <th>email</th>\n",
       "      <th>country</th>\n",
       "      <th>gender</th>\n",
       "      <th>avg_rating</th>\n",
       "      <th>long_tailed</th>\n",
       "      <th>target</th>\n",
       "    </tr>\n",
       "  </thead>\n",
       "  <tbody>\n",
       "    <tr>\n",
       "      <th>0</th>\n",
       "      <td>Collin</td>\n",
       "      <td>qfournier@wanadoo.fr</td>\n",
       "      <td>United Kingdom</td>\n",
       "      <td>F</td>\n",
       "      <td>4</td>\n",
       "      <td>21.560421</td>\n",
       "      <td>0</td>\n",
       "    </tr>\n",
       "    <tr>\n",
       "      <th>1</th>\n",
       "      <td>Vallée</td>\n",
       "      <td>ebailly@live.com</td>\n",
       "      <td>Belgium</td>\n",
       "      <td>F</td>\n",
       "      <td>4</td>\n",
       "      <td>21.607520</td>\n",
       "      <td>1</td>\n",
       "    </tr>\n",
       "    <tr>\n",
       "      <th>2</th>\n",
       "      <td>Guillon</td>\n",
       "      <td>corinnejoly@club-internet.fr</td>\n",
       "      <td>Belgium</td>\n",
       "      <td>F</td>\n",
       "      <td>4</td>\n",
       "      <td>1.775435</td>\n",
       "      <td>0</td>\n",
       "    </tr>\n",
       "    <tr>\n",
       "      <th>3</th>\n",
       "      <td>Joly</td>\n",
       "      <td>mauricesusanne@bouygtel.fr</td>\n",
       "      <td>United Kingdom</td>\n",
       "      <td>M</td>\n",
       "      <td>0</td>\n",
       "      <td>12.768028</td>\n",
       "      <td>0</td>\n",
       "    </tr>\n",
       "    <tr>\n",
       "      <th>4</th>\n",
       "      <td>Rossi</td>\n",
       "      <td>thierryperrin@hotmail.fr</td>\n",
       "      <td>Belgium</td>\n",
       "      <td>M</td>\n",
       "      <td>4</td>\n",
       "      <td>82.630362</td>\n",
       "      <td>0</td>\n",
       "    </tr>\n",
       "  </tbody>\n",
       "</table>\n",
       "</div>"
      ],
      "text/plain": [
       "      name                         email         country gender  avg_rating  \\\n",
       "0   Collin          qfournier@wanadoo.fr  United Kingdom      F           4   \n",
       "1   Vallée              ebailly@live.com         Belgium      F           4   \n",
       "2  Guillon  corinnejoly@club-internet.fr         Belgium      F           4   \n",
       "3     Joly    mauricesusanne@bouygtel.fr  United Kingdom      M           0   \n",
       "4    Rossi      thierryperrin@hotmail.fr         Belgium      M           4   \n",
       "\n",
       "   long_tailed  target  \n",
       "0    21.560421       0  \n",
       "1    21.607520       1  \n",
       "2     1.775435       0  \n",
       "3    12.768028       0  \n",
       "4    82.630362       0  "
      ]
     },
     "execution_count": 34,
     "metadata": {},
     "output_type": "execute_result"
    },
    {
     "data": {
      "application/javascript": [
       "\n",
       "            setTimeout(function() {\n",
       "                var nbb_cell_id = 34;\n",
       "                var nbb_unformatted_code = \"%%time\\ndf = pd.DataFrame(imbalanced_data(num=10000, seed=0))\\ndf.head(5)\";\n",
       "                var nbb_formatted_code = \"%%time\\ndf = pd.DataFrame(imbalanced_data(num=10000, seed=0))\\ndf.head(5)\";\n",
       "                var nbb_cells = Jupyter.notebook.get_cells();\n",
       "                for (var i = 0; i < nbb_cells.length; ++i) {\n",
       "                    if (nbb_cells[i].input_prompt_number == nbb_cell_id) {\n",
       "                        if (nbb_cells[i].get_text() == nbb_unformatted_code) {\n",
       "                             nbb_cells[i].set_text(nbb_formatted_code);\n",
       "                        }\n",
       "                        break;\n",
       "                    }\n",
       "                }\n",
       "            }, 500);\n",
       "            "
      ],
      "text/plain": [
       "<IPython.core.display.Javascript object>"
      ]
     },
     "metadata": {},
     "output_type": "display_data"
    }
   ],
   "source": [
    "%%time\n",
    "df = pd.DataFrame(imbalanced_data(num=10000, seed=0))\n",
    "df.head(5)"
   ]
  },
  {
   "cell_type": "code",
   "execution_count": 35,
   "metadata": {
    "scrolled": false
   },
   "outputs": [
    {
     "data": {
      "image/png": "[encoded data removed]",
      "text/plain": [
       "<Figure size 432x288 with 1 Axes>"
      ]
     },
     "metadata": {
      "needs_background": "light"
     },
     "output_type": "display_data"
    },
    {
     "data": {
      "application/javascript": [
       "\n",
       "            setTimeout(function() {\n",
       "                var nbb_cell_id = 35;\n",
       "                var nbb_unformatted_code = \"x = df[\\\"target\\\"].value_counts().index\\ny = df[\\\"target\\\"].value_counts().values\\nplt.xticks(x, x)\\n_ = plt.bar(x, y)\";\n",
       "                var nbb_formatted_code = \"x = df[\\\"target\\\"].value_counts().index\\ny = df[\\\"target\\\"].value_counts().values\\nplt.xticks(x, x)\\n_ = plt.bar(x, y)\";\n",
       "                var nbb_cells = Jupyter.notebook.get_cells();\n",
       "                for (var i = 0; i < nbb_cells.length; ++i) {\n",
       "                    if (nbb_cells[i].input_prompt_number == nbb_cell_id) {\n",
       "                        if (nbb_cells[i].get_text() == nbb_unformatted_code) {\n",
       "                             nbb_cells[i].set_text(nbb_formatted_code);\n",
       "                        }\n",
       "                        break;\n",
       "                    }\n",
       "                }\n",
       "            }, 500);\n",
       "            "
      ],
      "text/plain": [
       "<IPython.core.display.Javascript object>"
      ]
     },
     "metadata": {},
     "output_type": "display_data"
    }
   ],
   "source": [
    "x = df[\"target\"].value_counts().index\n",
    "y = df[\"target\"].value_counts().values\n",
    "plt.xticks(x, x)\n",
    "_ = plt.bar(x, y)"
   ]
  },
  {
   "cell_type": "code",
   "execution_count": 36,
   "metadata": {},
   "outputs": [
    {
     "name": "stdout",
     "output_type": "stream",
     "text": [
      "<class 'pandas.core.frame.DataFrame'>\n",
      "RangeIndex: 10000 entries, 0 to 9999\n",
      "Data columns (total 7 columns):\n",
      " #   Column       Non-Null Count  Dtype  \n",
      "---  ------       --------------  -----  \n",
      " 0   name         10000 non-null  object \n",
      " 1   email        10000 non-null  object \n",
      " 2   country      10000 non-null  object \n",
      " 3   gender       10000 non-null  object \n",
      " 4   avg_rating   10000 non-null  int64  \n",
      " 5   long_tailed  10000 non-null  float64\n",
      " 6   target       10000 non-null  int64  \n",
      "dtypes: float64(1), int64(2), object(4)\n",
      "memory usage: 547.0+ KB\n"
     ]
    },
    {
     "data": {
      "application/javascript": [
       "\n",
       "            setTimeout(function() {\n",
       "                var nbb_cell_id = 36;\n",
       "                var nbb_unformatted_code = \"df.info()\";\n",
       "                var nbb_formatted_code = \"df.info()\";\n",
       "                var nbb_cells = Jupyter.notebook.get_cells();\n",
       "                for (var i = 0; i < nbb_cells.length; ++i) {\n",
       "                    if (nbb_cells[i].input_prompt_number == nbb_cell_id) {\n",
       "                        if (nbb_cells[i].get_text() == nbb_unformatted_code) {\n",
       "                             nbb_cells[i].set_text(nbb_formatted_code);\n",
       "                        }\n",
       "                        break;\n",
       "                    }\n",
       "                }\n",
       "            }, 500);\n",
       "            "
      ],
      "text/plain": [
       "<IPython.core.display.Javascript object>"
      ]
     },
     "metadata": {},
     "output_type": "display_data"
    }
   ],
   "source": [
    "df.info()"
   ]
  },
  {
   "cell_type": "code",
   "execution_count": 38,
   "metadata": {},
   "outputs": [
    {
     "data": {
      "application/javascript": [
       "\n",
       "            setTimeout(function() {\n",
       "                var nbb_cell_id = 38;\n",
       "                var nbb_unformatted_code = \"df.to_csv(\\\"fake_data.csv\\\")\";\n",
       "                var nbb_formatted_code = \"df.to_csv(\\\"fake_data.csv\\\")\";\n",
       "                var nbb_cells = Jupyter.notebook.get_cells();\n",
       "                for (var i = 0; i < nbb_cells.length; ++i) {\n",
       "                    if (nbb_cells[i].input_prompt_number == nbb_cell_id) {\n",
       "                        if (nbb_cells[i].get_text() == nbb_unformatted_code) {\n",
       "                             nbb_cells[i].set_text(nbb_formatted_code);\n",
       "                        }\n",
       "                        break;\n",
       "                    }\n",
       "                }\n",
       "            }, 500);\n",
       "            "
      ],
      "text/plain": [
       "<IPython.core.display.Javascript object>"
      ]
     },
     "metadata": {},
     "output_type": "display_data"
    }
   ],
   "source": [
    "df.to_csv(\"fake_data.csv\")"
   ]
  },
  {
   "cell_type": "markdown",
   "metadata": {},
   "source": [
    "The problem with creating synthetic datasets that have more than 1 feature is that there are no relationships between features, as they are random.\n",
    "This leads to poor quality in terms of insights as all columns are independent from each other. \n"
   ]
  },
  {
   "cell_type": "code",
   "execution_count": null,
   "metadata": {},
   "outputs": [],
   "source": []
  }
 ],
 "metadata": {
  "kernelspec": {
   "display_name": "Python 3",
   "language": "python",
   "name": "python3"
  },
  "language_info": {
   "codemirror_mode": {
    "name": "ipython",
    "version": 3
   },
   "file_extension": ".py",
   "mimetype": "text/x-python",
   "name": "python",
   "nbconvert_exporter": "python",
   "pygments_lexer": "ipython3",
   "version": "3.8.8"
  }
 },
 "nbformat": 4,
 "nbformat_minor": 2
}
